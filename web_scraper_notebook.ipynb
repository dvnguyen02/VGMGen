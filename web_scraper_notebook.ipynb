{
 "cells": [
  {
   "cell_type": "code",
   "execution_count": 1,
   "metadata": {},
   "outputs": [],
   "source": [
    "import requests\n",
    "from bs4 import BeautifulSoup\n",
    "import os "
   ]
  },
  {
   "cell_type": "code",
   "execution_count": 2,
   "metadata": {},
   "outputs": [
    {
     "name": "stdout",
     "output_type": "stream",
     "text": [
      "Status code: 200\n"
     ]
    }
   ],
   "source": [
    "url = \"https://www.vgmusic.com/music/\"\n",
    "response = requests.get(url)\n",
    "print(f\"Status code: {response.status_code}\",)"
   ]
  },
  {
   "cell_type": "code",
   "execution_count": 3,
   "metadata": {},
   "outputs": [],
   "source": [
    "soup = BeautifulSoup(response.content, 'html.parser')"
   ]
  },
  {
   "cell_type": "code",
   "execution_count": 6,
   "metadata": {},
   "outputs": [
    {
     "name": "stdout",
     "output_type": "stream",
     "text": [
      "Raw HTML:\n",
      "b'<!DOCTYPE HTML PUBLIC \"-//W3C//DTD HTML 4.01//EN\" \"http://www.w3.org/TR/html4/strict.dtd\">\\r\\n<html>\\r\\n\\t<head>\\r\\n\\t\\t<title>VGMusic - 31806 Game Music MIDI files</title>\\r\\n\\t\\t<meta name=\"description\" content=\"Video Game MIDI music, since 1996!\">\\r\\n\\t\\t<meta name=\"keywords\" content=\"MIDI,MID,videogame,game,video game,music,archive\">\\r\\n\\t\\t<meta name=\"robots\" content=\"index,follow\">\\r\\n\\t\\t<meta http-equiv=\"content-type\" content=\"text/html;charset=utf-8\">\\r\\n\\t\\t<link rel=\"shortcut icon\" href=\"/favicon.ico\" type=\"image/x-icon\">\\r\\n\\t\\t<link rel=\"stylesheet\" href=\"/include/style-static.css\">\\r\\n\\t</head>\\r\\n\\t<body>\\r\\n\\t\\t<div class=\"center\">\\r\\n\\t\\t\\t<div class=\"content vboxed hboxed\">\\r\\n\\t\\t\\t\\t\\t <div class=\"logo\">\\r\\n\\t\\t\\t\\t\\t\\t<a href=\"/\"><img width=\"493\" height=\"299\" src=\"/images/logos/vglogo4.jpg\" alt=\"Videogame Music Archive Logo made by Alexander Farris\"></a><br>\\r\\n\\t\\t\\t\\t\\t\\tMario and Link &copy; Nintendo. Sonic the Hedgehog and Miles \"Tails\" Prower &copy; Sega.  Mega Man &copy; Capcom.\\r\\n\\t\\t\\t\\t\\t </div><br>\\r\\n\\t <div id=\"menu\">\\r\\n\\t<form action=\"https://www.vgmusic.com/cgi/redirect.pl\" method=\"post\">\\r\\n\\t\\t<fieldset>\\r\\n\\t\\t\\t<legend>VGMusic Section Menu</legend>\\r\\n\\t\\t\\t<select name=\"info\" size=1 onChange=\"newGo(this)\">\\r\\n\\t\\t\\t\\t<option value=\"http://www.vgmusic.com/\" selected=\"selected\">Section Menu</option>\\r\\n\\t\\t\\t\\t<option value=\"http://www.vgmusic.com/\">Main Page</option>\\r\\n\\t\\t\\t\\t<option value=\"http://www.vgmusic.com/updates/\">Recent Additions</option>\\r\\n\\t\\t\\t\\t<option value=\"http://www.vgmusic.com/faq/\">Frequently Asked Questions</option>\\r\\n\\t\\t\\t\\t<option value=\"http://www.vgmusic.com/new-files/\">New-Files</option>\\r\\n\\t\\t\\t\\t<option value=\"https://www.vgmusic.com/new-files/upload/\">Upload Files</option>\\r\\n\\t\\t\\t\\t<option value=\"http://www.vgmusic.com/information/links.php\">Related Links</option>\\r\\n\\t\\t\\t\\t<option value=\"http://www.vgmusic.com/information/milestones.php\">Milestones</option>\\r\\n\\t\\t\\t</select>\\r\\n\\t\\t\\t<input type=\"image\" name=\"submit_info\" src=\"/images/go.gif\" style=\"margin-right: 1em; border: 0; border: 0; width: 25px; height: 18px; vertical-align: top;\" a'\n",
      "\n",
      "-------------------\n",
      "\n"
     ]
    }
   ],
   "source": [
    "print(\"Raw HTML:\")\n",
    "print(response.content[:2000])  # First 2000 characters\n",
    "print(\"\\n-------------------\\n\")"
   ]
  },
  {
   "cell_type": "code",
   "execution_count": 7,
   "metadata": {},
   "outputs": [
    {
     "name": "stdout",
     "output_type": "stream",
     "text": [
      "[<a href=\"/\"><img alt=\"Videogame Music Archive Logo made by Alexander Farris\" height=\"299\" src=\"/images/logos/vglogo4.jpg\" width=\"493\"/></a>, <a href=\"http://www.ocremix.org/\">\n",
      "<img alt=\"OCRemix\" height=\"43\" src=\"/images/sites/ocr4_logo_link01.jpg\" width=\"140\"/></a>, <a href=\"http://www.vgmdb.net/\">\n",
      "<img alt=\"VGMdb\" height=\"50\" src=\"/images/sites/button_vgmdb_140x50.gif\" width=\"140\"/></a>, <a href=\"https://www.vgmusic.com/\">Home</a>, <a href=\"/updates/\">Archive Updates</a>, <a href=\"/faq/\">Freq. Asked Questions</a>, <a href=\"/new-files/\">Newly Submitted Files</a>, <a href=\"/new-files/upload/\">Upload Files</a>, <a href=\"/information/links.php\">Related Links</a>, <a href=\"/information/addlink.php\">Linking to Our Site</a>, <a href=\"/information/milestones.php\">VGMusic Milestones</a>, <a href=\"console/nintendo\">\n",
      "\t\t\t\t\t\t\t\t\tNintendo\n",
      "\t\t\t\t\t\t\t\t </a>, <a href=\"/music/console/nintendo/nes/\">NES</a>, <a href=\"/music/console/nintendo/gameboy/\">Game Boy</a>, <a href=\"/music/console/nintendo/snes/\">SNES</a>, <a href=\"/music/console/nintendo/n64/\">N64</a>, <a href=\"/music/console/nintendo/virtualboy/\">Virtual Boy</a>, <a href=\"/music/console/nintendo/gba/\">GBA</a>, <a href=\"/music/console/nintendo/gamecube/\">GameCube</a>, <a href=\"/music/console/nintendo/ds/\">Nintendo DS</a>, <a href=\"/music/console/nintendo/3ds/\">Nintendo 3DS</a>, <a href=\"/music/console/nintendo/wii/\">Nintendo Wii</a>, <a href=\"/music/console/nintendo/wiiu/\">Nintendo Wii U</a>, <a href=\"/music/console/nintendo/switch/\">Nintendo Switch</a>, <a href=\"/music/console/sega/\">\n",
      "\t\t\t\t\t\t\t\tSega\n",
      "\t\t\t\t\t\t\t\t</a>, <a href=\"/music/console/sega/master/\">Master System</a>, <a href=\"/music/console/sega/gamegear/\">Sega Game Gear</a>, <a href=\"/music/console/sega/genesis/\">Sega Genesis</a>, <a href=\"/music/console/sega/segacd/\">Sega CD</a>, <a href=\"/music/console/sega/32x/\">Sega 32x</a>, <a href=\"/music/console/sega/saturn/\">Sega Saturn</a>, <a href=\"/music/console/sega/dreamcast/\">Sega Dreamcast</a>, <a href=\"console/sony/\">Sony</a>, <a href=\"/music/console/sony/ps1/\">Sony PlayStation</a>, <a href=\"/music/console/sony/ps2/\">Sony PlayStation 2</a>, <a href=\"/music/console/sony/ps3/\">Sony PlayStation 3</a>, <a href=\"/music/console/sony/ps4/\">Sony PlayStation 4</a>, <a href=\"/music/console/sony/psp/\">Sony PSP</a>, <a href=\"/music/console/microsoft/xbox/\">Xbox</a>, <a href=\"/music/console/microsoft/xbox360/\">Xbox 360</a>, <a href=\"/music/console/nec/tg16/\">TurboGrafx-16</a>, <a href=\"/music/console/nec/tduo/\">Turbo Duo</a>, <a href=\"/music/console/nec/sgx/\">SuperGrafx</a>, <a href=\"/music/console/nec/pcfx/\">PC-FX</a>, <a href=\"/music/console/snk/neogeo/\">Neo-Geo</a>, <a href=\"/music/console/snk/neogeopocket/\">Neo-Geo Pocket</a>, <a href=\"/music/console/atari/2600/\">Atari 2600</a>, <a href=\"/music/console/atari/7800/\">Atari 7800</a>, <a href=\"/music/console/atari/lynx/\">Atari Lynx</a>, <a href=\"/music/console/mattel/intellivision/\">Mattel Intellivision</a>, <a href=\"/music/console/coleco/colecovision/\">Coleco ColecoVision</a>, <a href=\"/music/console/magnavox/odyssey2/\">Magnavox Odyssey2</a>, <a href=\"/music/console/3do/3do/\">3DO 3DO</a>, <a href=\"/music/console/philips/cd-i/\">Philips CD-i</a>, <a href=\"/music/computer/microsoft/windows/\">Dos &amp; Windows</a>, <a href=\"/music/computer/commodore/commodore/\">Commodore 64</a>, <a href=\"/music/computer/miscellaneous/msx/\">MSX Computer</a>, <a href=\"/music/computer/atari/atari/\">Atari Computers</a>, <a href=\"/music/computer/commodore/amiga/\">Amiga Computer</a>, <a href=\"/music/computer/amstrad/amstradcpc/\">Amstrad CPC</a>, <a href=\"/music/computer/apple/appleii/\">Apple II</a>, <a href=\"/music/computer/apple/macintosh/\">Apple Macintosh</a>, <a href=\"/music/computer/nec/pc-88/\">NEC PC-88</a>, <a href=\"/music/computer/nec/pc-98/\">NEC PC-98</a>, <a href=\"/music/computer/tomy/tutor/\">Tomy Tutor</a>, <a href=\"/music/computer/sharp/x68000/\">Sharp X68000</a>, <a href=\"/music/computer/sinclair/spectrum/\">Sinclair Spectrum</a>, <a href=\"/music/other/miscellaneous/arcade/\">Arcade</a>, <a href=\"/music/other/miscellaneous/medley/\">Medleys</a>, <a href=\"/music/other/miscellaneous/piano/\">Piano Only</a>, <a href=\"information/staff.php\">Staff</a>, <a href=\"faq/\">Frequently Asked Questions</a>, <a href=\"mailto:siteadmin@vgmusic.com?subject=VGMA%20Problem:\">Webmasters</a>, <a href=\"https://twitter.com/vgmusic\">vgmusic@twitter.com</a>, <a href=\"https://www.vgmusic.com/~mike/an_analytical_look_at_spam.html\">Spam be gone!</a>, <a href=\"https://queer.party/@jessica\">Jessica's mastodon</a>, <a href=\"privacy.php\">Privacy Policy</a>, <a href=\"information/legal.php\">Terms of Service</a>]\n"
     ]
    }
   ],
   "source": [
    "links = soup.find_all('a') # this finds all link tags in the HTML\n",
    "print(links)"
   ]
  },
  {
   "cell_type": "code",
   "execution_count": 8,
   "metadata": {},
   "outputs": [
    {
     "name": "stdout",
     "output_type": "stream",
     "text": [
      "Parsed links:\n",
      "Link text: \n",
      "Link URL: /\n",
      "\n",
      "Link text: \n",
      "\n",
      "Link URL: http://www.ocremix.org/\n",
      "\n",
      "Link text: \n",
      "\n",
      "Link URL: http://www.vgmdb.net/\n",
      "\n",
      "Link text: Home\n",
      "Link URL: https://www.vgmusic.com/\n",
      "\n",
      "Link text: Archive Updates\n",
      "Link URL: /updates/\n",
      "\n"
     ]
    }
   ],
   "source": [
    "print(\"Parsed links:\")\n",
    "for link in links[:5]:  # Show first 5 links\n",
    "    print(f\"Link text: {link.text}\")\n",
    "    print(f\"Link URL: {link.get('href')}\")\n",
    "    print()"
   ]
  },
  {
   "cell_type": "code",
   "execution_count": 7,
   "metadata": {},
   "outputs": [
    {
     "name": "stdout",
     "output_type": "stream",
     "text": [
      "/music/console/nintendo/nes/\n",
      "/music/console/nintendo/gameboy/\n",
      "/music/console/nintendo/snes/\n",
      "/music/console/nintendo/n64/\n",
      "/music/console/nintendo/virtualboy/\n",
      "/music/console/nintendo/gba/\n",
      "/music/console/nintendo/gamecube/\n",
      "/music/console/nintendo/ds/\n",
      "/music/console/nintendo/3ds/\n",
      "/music/console/nintendo/wii/\n",
      "/music/console/nintendo/wiiu/\n",
      "/music/console/nintendo/switch/\n",
      "/music/console/sega/\n",
      "/music/console/sega/master/\n",
      "/music/console/sega/gamegear/\n",
      "/music/console/sega/genesis/\n",
      "/music/console/sega/segacd/\n",
      "/music/console/sega/32x/\n",
      "/music/console/sega/saturn/\n",
      "/music/console/sega/dreamcast/\n",
      "/music/console/sony/ps1/\n",
      "/music/console/sony/ps2/\n",
      "/music/console/sony/ps3/\n",
      "/music/console/sony/ps4/\n",
      "/music/console/sony/psp/\n",
      "/music/console/microsoft/xbox/\n",
      "/music/console/microsoft/xbox360/\n",
      "/music/console/nec/tg16/\n",
      "/music/console/nec/tduo/\n",
      "/music/console/nec/sgx/\n",
      "/music/console/nec/pcfx/\n",
      "/music/console/snk/neogeo/\n",
      "/music/console/snk/neogeopocket/\n",
      "/music/console/atari/2600/\n",
      "/music/console/atari/7800/\n",
      "/music/console/atari/lynx/\n",
      "/music/console/mattel/intellivision/\n",
      "/music/console/coleco/colecovision/\n",
      "/music/console/magnavox/odyssey2/\n",
      "/music/console/3do/3do/\n",
      "/music/console/philips/cd-i/\n",
      "/music/computer/microsoft/windows/\n",
      "/music/computer/commodore/commodore/\n",
      "/music/computer/miscellaneous/msx/\n",
      "/music/computer/atari/atari/\n",
      "/music/computer/commodore/amiga/\n",
      "/music/computer/amstrad/amstradcpc/\n",
      "/music/computer/apple/appleii/\n",
      "/music/computer/apple/macintosh/\n",
      "/music/computer/nec/pc-88/\n",
      "/music/computer/nec/pc-98/\n",
      "/music/computer/tomy/tutor/\n",
      "/music/computer/sharp/x68000/\n",
      "/music/computer/sinclair/spectrum/\n",
      "/music/other/miscellaneous/arcade/\n",
      "/music/other/miscellaneous/medley/\n",
      "/music/other/miscellaneous/piano/\n"
     ]
    }
   ],
   "source": [
    "for link in links: \n",
    "    href = link.get('href', '')\n",
    "    if 'music/' in href and href != 'music/':\n",
    "        print(href)"
   ]
  },
  {
   "cell_type": "markdown",
   "metadata": {},
   "source": [
    "Since there are quite a lot of consoles, let's create a script to find midi file from a specific console page"
   ]
  },
  {
   "cell_type": "code",
   "execution_count": 9,
   "metadata": {},
   "outputs": [],
   "source": [
    "from urllib.parse import urljoin\n",
    "def get_midi_links(console_url):\n",
    "    response = requests.get(console_url)\n",
    "    soup = BeautifulSoup(response.content, \"html.parser\")\n",
    "\n",
    "    # Find all MIDI Links\n",
    "    midi_links = [] # initialze the list to store links\n",
    "    for link in soup.find_all('a'):\n",
    "        href = link.get('href', '')\n",
    "        if href.lower().endwith('.mid'):\n",
    "            full_url = urljoin(console_url, href)\n",
    "            print(f\"Found MIDI: {link.text}\")\n",
    "            print(f\"URL: {full_url}\\n\")\n",
    "            midi_links.append(full_url)\n",
    "    \n",
    "    return midi_links"
   ]
  },
  {
   "cell_type": "code",
   "execution_count": null,
   "metadata": {},
   "outputs": [],
   "source": [
    "console = \"https://www.vgmusic.com/music/console/nintendo/nes/\""
   ]
  }
 ],
 "metadata": {
  "kernelspec": {
   "display_name": "base",
   "language": "python",
   "name": "python3"
  },
  "language_info": {
   "codemirror_mode": {
    "name": "ipython",
    "version": 3
   },
   "file_extension": ".py",
   "mimetype": "text/x-python",
   "name": "python",
   "nbconvert_exporter": "python",
   "pygments_lexer": "ipython3",
   "version": "3.11.7"
  }
 },
 "nbformat": 4,
 "nbformat_minor": 2
}
